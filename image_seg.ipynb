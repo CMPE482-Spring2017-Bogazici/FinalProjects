{
 "cells": [
  {
   "cell_type": "code",
   "execution_count": 148,
   "metadata": {
    "collapsed": false,
    "deletable": true,
    "editable": true
   },
   "outputs": [
    {
     "data": {
      "image/svg+xml": [
       "<svg height=\"420px\" viewBox=\"0 0 560 420\" width=\"560px\" xmlns=\"http://www.w3.org/2000/svg\" xmlns:xlink=\"http://www.w3.org/1999/xlink\">\n",
       "\n",
       "<title>Gnuplot</title>\n",
       "<desc>Produced by GNUPLOT 5.0 patchlevel 5 </desc>\n",
       "\n",
       "<g id=\"gnuplot_canvas\">\n",
       "\n",
       "<rect fill=\"#ffffff\" height=\"420\" width=\"560\" x=\"0\" y=\"0\"/>\n",
       "<defs>\n",
       "\n",
       "\t<circle id=\"gpDot\" r=\"0.5\" stroke-width=\"0.5\"/>\n",
       "\t<path d=\"M-1,0 h2 M0,-1 v2\" id=\"gpPt0\" stroke=\"currentColor\" stroke-width=\"0.333\"/>\n",
       "\t<path d=\"M-1,-1 L1,1 M1,-1 L-1,1\" id=\"gpPt1\" stroke=\"currentColor\" stroke-width=\"0.333\"/>\n",
       "\t<path d=\"M-1,0 L1,0 M0,-1 L0,1 M-1,-1 L1,1 M-1,1 L1,-1\" id=\"gpPt2\" stroke=\"currentColor\" stroke-width=\"0.333\"/>\n",
       "\t<rect height=\"2\" id=\"gpPt3\" stroke=\"currentColor\" stroke-width=\"0.333\" width=\"2\" x=\"-1\" y=\"-1\"/>\n",
       "\t<rect fill=\"currentColor\" height=\"2\" id=\"gpPt4\" stroke=\"currentColor\" stroke-width=\"0.333\" width=\"2\" x=\"-1\" y=\"-1\"/>\n",
       "\t<circle cx=\"0\" cy=\"0\" id=\"gpPt5\" r=\"1\" stroke=\"currentColor\" stroke-width=\"0.333\"/>\n",
       "\t<use fill=\"currentColor\" id=\"gpPt6\" stroke=\"none\" xlink:href=\"#gpPt5\"/>\n",
       "\t<path d=\"M0,-1.33 L-1.33,0.67 L1.33,0.67 z\" id=\"gpPt7\" stroke=\"currentColor\" stroke-width=\"0.333\"/>\n",
       "\t<use fill=\"currentColor\" id=\"gpPt8\" stroke=\"none\" xlink:href=\"#gpPt7\"/>\n",
       "\t<use id=\"gpPt9\" stroke=\"currentColor\" transform=\"rotate(180)\" xlink:href=\"#gpPt7\"/>\n",
       "\t<use fill=\"currentColor\" id=\"gpPt10\" stroke=\"none\" xlink:href=\"#gpPt9\"/>\n",
       "\t<use id=\"gpPt11\" stroke=\"currentColor\" transform=\"rotate(45)\" xlink:href=\"#gpPt3\"/>\n",
       "\t<use fill=\"currentColor\" id=\"gpPt12\" stroke=\"none\" xlink:href=\"#gpPt11\"/>\n",
       "\t<path d=\"M0,1.330 L1.265,0.411 L0.782,-1.067 L-0.782,-1.076 L-1.265,0.411 z\" id=\"gpPt13\" stroke=\"currentColor\" stroke-width=\"0.333\"/>\n",
       "\t<use fill=\"currentColor\" id=\"gpPt14\" stroke=\"none\" xlink:href=\"#gpPt13\"/>\n",
       "\t<filter filterUnits=\"objectBoundingBox\" height=\"1\" id=\"textbox\" width=\"1\" x=\"0\" y=\"0\">\n",
       "\t  <feFlood flood-color=\"#FFFFFF\" flood-opacity=\"1\" result=\"bgnd\"/>\n",
       "\t  <feComposite in=\"SourceGraphic\" in2=\"bgnd\" operator=\"atop\"/>\n",
       "\t</filter>\n",
       "\t<filter filterUnits=\"objectBoundingBox\" height=\"1\" id=\"greybox\" width=\"1\" x=\"0\" y=\"0\">\n",
       "\t  <feFlood flood-color=\"lightgrey\" flood-opacity=\"1\" result=\"grey\"/>\n",
       "\t  <feComposite in=\"SourceGraphic\" in2=\"grey\" operator=\"atop\"/>\n",
       "\t</filter>\n",
       "</defs>\n",
       "<g color=\"#FFFFFF\" fill=\"none\" stroke=\"currentColor\" stroke-linecap=\"butt\" stroke-linejoin=\"miter\" stroke-width=\"1.00\">\n",
       "</g>\n",
       "<g color=\"black\" fill=\"none\" stroke=\"currentColor\" stroke-linecap=\"butt\" stroke-linejoin=\"miter\" stroke-width=\"1.00\">\n",
       "</g>\n",
       "\t<g id=\"gnuplot_plot_1a\"><title>gnuplot_plot_1a</title>\n",
       "<g color=\"black\" fill=\"none\" stroke=\"currentColor\" stroke-linecap=\"butt\" stroke-linejoin=\"miter\" stroke-width=\"1.00\">\n",
       "<image height=\"389.1\" preserveAspectRatio=\"none\" width=\"389.1\" x=\"84.0\" xlink:href=\"gp_image_01.png\" y=\"15.5\"/>;\n",
       "</g>\n",
       "\t</g>\n",
       "<g color=\"black\" fill=\"none\" stroke=\"currentColor\" stroke-linecap=\"butt\" stroke-linejoin=\"miter\" stroke-width=\"1.00\">\n",
       "</g>\n",
       "<g color=\"black\" fill=\"none\" stroke=\"rgb(  0,   0,   0)\" stroke-linecap=\"butt\" stroke-linejoin=\"miter\" stroke-width=\"2.00\">\n",
       "</g>\n",
       "<g color=\"black\" fill=\"none\" stroke=\"currentColor\" stroke-linecap=\"butt\" stroke-linejoin=\"miter\" stroke-width=\"2.00\">\n",
       "</g>\n",
       "<g color=\"black\" fill=\"none\" stroke=\"black\" stroke-linecap=\"butt\" stroke-linejoin=\"miter\" stroke-width=\"1.00\">\n",
       "</g>\n",
       "<g color=\"black\" fill=\"none\" stroke=\"currentColor\" stroke-linecap=\"butt\" stroke-linejoin=\"miter\" stroke-width=\"1.00\">\n",
       "</g>\n",
       "</g>\n",
       "</svg>"
      ],
      "text/plain": [
       "<IPython.core.display.SVG object>"
      ]
     },
     "metadata": {},
     "output_type": "display_data"
    }
   ],
   "source": [
    "I = imread('stones_rgb.jpg');\n",
    "I = im2double(I);\n",
    "figure;\n",
    "imshow(I);"
   ]
  },
  {
   "cell_type": "code",
   "execution_count": null,
   "metadata": {
    "collapsed": false,
    "deletable": true,
    "editable": true
   },
   "outputs": [
    {
     "name": "stdout",
     "output_type": "stream",
     "text": [
      "i =  100\n",
      "i =  200\n",
      "i =  300\n",
      "i =  400\n",
      "i =  500\n",
      "i =  600\n",
      "i =  700\n",
      "i =  800\n",
      "i =  900\n",
      "i =  1000\n",
      "i =  1100\n",
      "i =  1200\n",
      "i =  1300\n",
      "i =  1400\n",
      "i =  1500\n",
      "i =  1600\n",
      "i =  1700\n",
      "i =  1800\n",
      "i =  1900\n",
      "i =  2000\n",
      "i =  2100\n",
      "i =  2200\n",
      "i =  2300\n",
      "i =  2400\n",
      "i =  2500\n",
      "i =  2600\n",
      "i =  2700\n",
      "i =  2800\n",
      "i =  2900\n",
      "i =  3000\n",
      "i =  3100\n",
      "i =  3200\n"
     ]
    }
   ],
   "source": [
    "% define n and h\n",
    "[h,~,~] = size(I);\n",
    "n=h*h;\n",
    "\n",
    "% define r and sigma\n",
    "r = 2;\n",
    "sig = 10;\n",
    "\n",
    "% distance weight matrix\n",
    "D_W = [0.299, 0.587, 0.114; \n",
    "         -0.14713, -0.28886, 0.436;\n",
    "          0.615, -0.51499, -0.10001];\n",
    "\n",
    "% construct W\n",
    "W = zeros(n,n);\n",
    "for i=1:n\n",
    "    if rem(i,100) == 0\n",
    "        i\n",
    "    end\n",
    "    % extract pixel coordinates\n",
    "    x1 = rem(i,h);\n",
    "    if x1 == 0\n",
    "        x1 = 64;\n",
    "    end\n",
    "    y1 = idivide(int32(i-1), int32(h)) + 1;\n",
    "    for j=1:i-1\n",
    "        % extract pixel coordinates\n",
    "        x2 = rem(j,h);\n",
    "        if x2 == 0\n",
    "            x2 = 64;\n",
    "        end\n",
    "        y2 = idivide(int32(j-1), int32(h)) + 1;\n",
    "        \n",
    "        if abs(x1-x2) > r || abs(y1-y2) > r\n",
    "            continue;\n",
    "        end\n",
    "        \n",
    "        v_i = reshape(I(x1,y1,:), [3,1]);\n",
    "        v_j = reshape(I(x2,y2,:), [3,1]);\n",
    "        \n",
    "        % calcualte similarity\n",
    "        q = D_W*(v_i-v_j);\n",
    "        sim = exp(-(q'*q)/(2*sig^2));\n",
    "        W(i,j) = sim;\n",
    "        W(j,i) = sim;\n",
    "    end\n",
    "end"
   ]
  },
  {
   "cell_type": "code",
   "execution_count": 133,
   "metadata": {
    "collapsed": false,
    "deletable": true,
    "editable": true
   },
   "outputs": [],
   "source": [
    "% construct Laplacian matrix\n",
    "D = diag(sum(W,2));\n",
    "D_inv_sqrt = diag(sqrt(diag(D).^(-1)));\n",
    "L = D_inv_sqrt*W*D_inv_sqrt;"
   ]
  },
  {
   "cell_type": "code",
   "execution_count": 134,
   "metadata": {
    "collapsed": false,
    "deletable": true,
    "editable": true
   },
   "outputs": [],
   "source": [
    "k=5;\n",
    "\n",
    "% finding eigenvectors by simultaneous iteration\n",
    "Q = qr(randn(n,k),0);\n",
    "for i=1:100\n",
    "    Q = L*Q;\n",
    "    [Q,~] = qr(Q,0);\n",
    "end\n",
    "\n",
    "V = D_inv_sqrt*Q;"
   ]
  },
  {
   "cell_type": "code",
   "execution_count": 147,
   "metadata": {
    "collapsed": false,
    "deletable": true,
    "editable": true
   },
   "outputs": [
    {
     "name": "stdout",
     "output_type": "stream",
     "text": [
      "ans =\n",
      "\n",
      "  -5.8762e-02  -6.0365e-03  -1.8297e-02  -5.7479e-03  -4.4042e-03\n",
      "  -5.9510e-02  -6.2420e-03  -1.9019e-02  -6.0153e-03  -4.2029e-03\n",
      "  -6.0383e-02  -6.5084e-03  -1.9951e-02  -6.3844e-03  -3.7638e-03\n",
      "  -6.0852e-02  -6.6594e-03  -2.0477e-02  -6.6000e-03  -3.4660e-03\n",
      "  -5.9971e-02  -6.5148e-03  -1.9973e-02  -6.4909e-03  -2.9728e-03\n",
      "  -5.2097e-02  -4.4655e-03  -1.2810e-02  -3.9094e-03  -4.2818e-03\n",
      "  -1.0581e-03   4.7825e-04  -1.4566e-02   8.3430e-04   2.9016e-02\n",
      "  -1.0917e-03   4.5733e-04  -1.4507e-02   8.3890e-04   2.8857e-02\n",
      "  -1.0765e-03   4.6625e-04  -1.4534e-02   8.3661e-04   2.8927e-02\n",
      "  -1.2251e-03   3.7110e-04  -1.4273e-02   8.5116e-04   2.8203e-02\n",
      "\n"
     ]
    }
   ],
   "source": [
    "V(1:10,1:5)\n",
    "%v = Q(:,4);\n",
    "%e = (v'*L*v)/(v'*v);\n",
    "%figure;hist(V(:,1));\n",
    "%v1 = V(:,1);\n",
    "%ind = (v1<0);\n",
    "%c1 = zeros(n,1);\n",
    "%c2 = zeros(n,1);\n",
    "%c1(ind) = v1(ind);\n",
    "%c2(~ind) = v1(~ind);\n",
    "%figure;imshow(reshape(V(:,1),[h,h]));\n",
    "%figure,imshow(zeros(h,h));"
   ]
  },
  {
   "cell_type": "markdown",
   "metadata": {
    "collapsed": true,
    "deletable": true,
    "editable": true
   },
   "source": []
  }
 ],
 "metadata": {
  "kernelspec": {
   "display_name": "Octave",
   "language": "octave",
   "name": "octave"
  },
  "language_info": {
   "file_extension": ".m",
   "help_links": [
    {
     "text": "GNU Octave",
     "url": "https://www.gnu.org/software/octave/support.html"
    },
    {
     "text": "Octave Kernel",
     "url": "https://github.com/Calysto/octave_kernel"
    },
    {
     "text": "MetaKernel Magics",
     "url": "https://github.com/calysto/metakernel/blob/master/metakernel/magics/README.md"
    }
   ],
   "mimetype": "text/x-octave",
   "name": "octave",
   "version": "4.2.0"
  }
 },
 "nbformat": 4,
 "nbformat_minor": 2
}
