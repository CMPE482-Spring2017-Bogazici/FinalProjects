{
 "cells": [
  {
   "cell_type": "code",
   "execution_count": 1,
   "metadata": {},
   "outputs": [
    {
     "data": {
      "image/png": "[encoded data removed]",
      "text/plain": [
       "<matplotlib.figure.Figure at 0x1114b95d0>"
      ]
     },
     "metadata": {},
     "output_type": "display_data"
    },
    {
     "data": {
      "image/png": "[encoded data removed]",
      "text/plain": [
       "<matplotlib.figure.Figure at 0x11cdbaf90>"
      ]
     },
     "metadata": {},
     "output_type": "display_data"
    }
   ],
   "source": [
    "%matplotlib inline\n",
    "import matplotlib.pyplot as plt\n",
    "import numpy as np\n",
    "from numpy.linalg import inv\n",
    "from numpy.linalg import lstsq\n",
    "\n",
    "f=open(\"flights.csv\",\"r\")\n",
    "f.readline()\n",
    "\n",
    "times=[]\n",
    "X=[]\n",
    "\n",
    "last=0\n",
    "ces=0\n",
    "\n",
    "while(1):\n",
    "    ces+=1\n",
    "    line=f.readline()\n",
    "    line=line.rstrip()\n",
    "    line=line.split(',')\n",
    "    if(len(line)==1 and line[0] == ''):\n",
    "        break\n",
    "\n",
    "    t=np.double(line[0])\n",
    "    if(len(line)>1 and line[1]!=''):\n",
    "        x=np.double(line[1])\n",
    "    else:\n",
    "        x=np.double(0.0)\n",
    "    if(x==0):\n",
    "        plt.plot(times[last:ces],X[last:ces],color=\"blue\")\n",
    "        last=ces\n",
    "    times.append(t)\n",
    "    X.append(x)\n",
    "\n",
    "plt.close()\n",
    "\n",
    "M=4\n",
    "N=len(X)-M\n",
    "\n",
    "Y=[[x] for x in X]\n",
    "X=Y\n",
    "\n",
    "Xob=np.matrix(X)\n",
    "\n",
    "\n",
    "def getGX():\n",
    "    GX=[[np.double(0.0) for xvs in range(M)] for xvq in range(N)]\n",
    "    for i in range(N):\n",
    "        for j in range(0,M):\n",
    "            GX[i][M-j-1]=X[j+i][0]\n",
    "    return np.matrix(GX)\n",
    "\n",
    "A=[[xvs+0.0] for xvs in range(M)]\n",
    "A=np.matrix(A)\n",
    "\n",
    "def getGA():\n",
    "    GA=[[np.double(0.0) for xvs in range(len(X))] for xvq in range(N)]\n",
    "    for i in range(N):\n",
    "        for j in range(M):\n",
    "            GA[i][i+j]=A[j,0]\n",
    "        GA[i][i+M]=-1\n",
    "        res=[]\n",
    "    GA2=[]\n",
    "    for i in range(N):\n",
    "        GA2.append([])\n",
    "        for j in range(len(X)):\n",
    "            if(Xob[j,0]<0.00001):\n",
    "                GA2[i].append(GA[i][j])\n",
    "    return  [np.matrix(GA),np.matrix(GA2)]\n",
    "\n",
    "\n",
    "T=1000\n",
    "\n",
    "for i in range(len(X)):\n",
    "   if(Xob[i,0]<0.0001):\n",
    "       X[i][0]=1\n",
    "\n",
    "\n",
    "\n",
    "for t in range(T):\n",
    "    GX=getGX()\n",
    "    V=np.transpose(GX)*GX\n",
    "    B=X[M:]\n",
    "    A=inv(V)*np.transpose(GX)*np.matrix(B)\n",
    "  \n",
    "    ar=getGA()\n",
    "    GA=ar[0]\n",
    "    GAem=ar[1]\n",
    "    V=np.transpose(GAem)*GAem\n",
    "    Xmi=inv(V)*np.transpose(GAem)*-GA*Xob\n",
    "    \n",
    "    ces=0\n",
    "    for i in range(M,len(X)):\n",
    "        if(Xob[i,0]<0.00001):\n",
    "            X[i][0]=Xmi[ces,0]\n",
    "            ces+=1\n",
    "\n",
    "tX=[]\n",
    "for i in range(len(X)):\n",
    "    tX.append(X[i][0])\n",
    "\n",
    "plt.close()\n",
    "plt.plot(times,tX)\n",
    "plt.show()\n",
    "\n",
    "a=[]\n",
    "for i in range(M):\n",
    "    a.append(A[i,0])\n",
    "\n",
    "plt.scatter(range(M),a)\n",
    "plt.show()"
   ]
  },
  {
   "cell_type": "code",
   "execution_count": null,
   "metadata": {
    "collapsed": true
   },
   "outputs": [],
   "source": []
  }
 ],
 "metadata": {
  "kernelspec": {
   "display_name": "Python 2",
   "language": "python",
   "name": "python2"
  },
  "language_info": {
   "codemirror_mode": {
    "name": "ipython",
    "version": 2
   },
   "file_extension": ".py",
   "mimetype": "text/x-python",
   "name": "python",
   "nbconvert_exporter": "python",
   "pygments_lexer": "ipython2",
   "version": "2.7.13"
  }
 },
 "nbformat": 4,
 "nbformat_minor": 2
}
