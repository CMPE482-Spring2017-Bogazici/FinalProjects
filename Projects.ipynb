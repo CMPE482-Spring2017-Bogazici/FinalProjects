{
 "cells": [
  {
   "cell_type": "markdown",
   "metadata": {},
   "source": [
    "# CmpE 482 - Final Projects\n",
    "### Ahmet Ercan Tekden\n",
    "\n",
    "## Project 1 - Interpolatation with Autoregressive(AR) models\n"
   ]
  },
  {
   "cell_type": "markdown",
   "metadata": {},
   "source": [
    "### Step 1 \n",
    "Read the flights.csv file into two column vectors T and X, where X is partially observed monthly totals of international airline passengers and T is the corresponding months.\n",
    "\n",
    "Plot T vs. X"
   ]
  },
  {
   "cell_type": "code",
   "execution_count": 104,
   "metadata": {
    "collapsed": false
   },
   "outputs": [
    {
     "data": {
      "image/png": "[encoded data removed]",
      "text/plain": [
       "<IPython.core.display.Image object>"
      ]
     },
     "metadata": {},
     "output_type": "display_data"
    }
   ],
   "source": [
    "filename = 'flights.csv';\n",
    "delimiterIn = ',';\n",
    "Data = importdata(filename,delimiterIn);\n",
    "T= Data.data(:,1);\n",
    "X= Data.data(:,2);\n",
    "\n",
    "plot(T,X)"
   ]
  },
  {
   "cell_type": "markdown",
   "metadata": {},
   "source": [
    "### Settings"
   ]
  },
  {
   "cell_type": "code",
   "execution_count": 180,
   "metadata": {
    "collapsed": false
   },
   "outputs": [],
   "source": [
    "Unknown_x_indices = find(isnan(X));\n",
    "M= 4;\n",
    "N=length(X);\n",
    "GX=zeros(N-M,M);\n",
    "GA=zeros(N-M,N);"
   ]
  },
  {
   "cell_type": "markdown",
   "metadata": {
    "collapsed": false
   },
   "source": [
    "### Iteration Part"
   ]
  },
  {
   "cell_type": "code",
   "execution_count": 201,
   "metadata": {
    "collapsed": false
   },
   "outputs": [],
   "source": [
    "X_temp=X;\n",
    "X_temp(Unknown_x_indices)=0;\n",
    "for i=1:1000\n",
    "    %% Setting X_obs \n",
    "    X_obs=X_temp;\n",
    "    X_obs(Unknown_x_indices)=0;\n",
    "\n",
    "    %% Setting Gx and finding A.\n",
    "\n",
    "    for i=1:N-M\n",
    "        GX(i,:)=fliplr(X_temp(i:i+M-1)');\n",
    "    end\n",
    "    \n",
    "    %% Solving A with QR\n",
    "    [QGX RGX] = qr(GX);\n",
    "    A= (RGX)\\(QGX'*X_temp(M+1:end));  \n",
    "    \n",
    "    %% Setting Ga\n",
    "    for i=1:N-M\n",
    "        GA(i,i:i+M)=[A' -1];\n",
    "    end\n",
    "    \n",
    "    %% Solve for X_mi\n",
    "    % If we think equation as Ax=b\n",
    "    % A,x,b becomes A=GA(X_mi indexes),x=X_mi b=-GA*X_obs\n",
    "    [QGA RGA] = qr(GA(:,Unknown_x_indices));\n",
    "    % We can directly write -GA * X_obs because X_mi corresponding indexes of b will become 0 after multiplication.\n",
    "    b = (-GA* X_obs);\n",
    "    X_mi= (RGA)\\(QGA'*b);\n",
    "    X_temp(Unknown_x_indices)=X_mi; %% Update indexes of X_mi\n",
    "end\n",
    "\n",
    "X_new = X_temp;\n"
   ]
  },
  {
   "cell_type": "markdown",
   "metadata": {
    "collapsed": false
   },
   "source": [
    "### Plots"
   ]
  },
  {
   "cell_type": "code",
   "execution_count": 245,
   "metadata": {
    "collapsed": false
   },
   "outputs": [
    {
     "data": {
      "image/png": "[encoded data removed]",
      "text/plain": [
       "<IPython.core.display.Image object>"
      ]
     },
     "metadata": {},
     "output_type": "display_data"
    },
    {
     "data": {
      "image/png": "[encoded data removed]",
      "text/plain": [
       "<IPython.core.display.Image object>"
      ]
     },
     "metadata": {},
     "output_type": "display_data"
    }
   ],
   "source": [
    "%% Plot T with X\n",
    "plot(T,X_temp);\n",
    "\n",
    "%% Plot A with reference line on X axis.\n",
    "figure;\n",
    "plot([0.5,4.5],[0,0]);\n",
    "hold on;\n",
    "scatter([1:4],A,1000,'r','filled');\n",
    "hold on;\n",
    "for i=1:4\n",
    "    plot([i,i],[0,A(i)],'r');\n",
    "    hold on;\n",
    "end"
   ]
  },
  {
   "cell_type": "markdown",
   "metadata": {
    "collapsed": true
   },
   "source": [
    "# Project 2"
   ]
  },
  {
   "cell_type": "code",
   "execution_count": null,
   "metadata": {
    "collapsed": true
   },
   "outputs": [],
   "source": []
  }
 ],
 "metadata": {
  "kernelspec": {
   "display_name": "Octave",
   "language": "octave",
   "name": "octave"
  },
  "language_info": {
   "file_extension": ".m",
   "help_links": [
    {
     "text": "GNU Octave",
     "url": "https://www.gnu.org/software/octave/support.html"
    },
    {
     "text": "Octave Kernel",
     "url": "https://github.com/Calysto/octave_kernel"
    },
    {
     "text": "MetaKernel Magics",
     "url": "https://github.com/calysto/metakernel/blob/master/metakernel/magics/README.md"
    }
   ],
   "mimetype": "text/x-octave",
   "name": "octave",
   "version": "4.2.0"
  }
 },
 "nbformat": 4,
 "nbformat_minor": 2
}
