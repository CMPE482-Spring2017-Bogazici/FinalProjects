{
 "cells": [
  {
   "cell_type": "code",
   "execution_count": 17,
   "metadata": {
    "collapsed": true
   },
   "outputs": [],
   "source": [
    "import pandas as pd\n",
    "import numpy as np\n",
    "import matplotlib.pyplot as plt\n",
    "%matplotlib inline\n",
    "\n",
    "# Reading given file\n",
    "data = pd.read_csv('flights.csv')\n",
    "\n",
    "# Months are stored in array T.\n",
    "T=data.iloc[0:len(data),0]\n",
    "# Passengers are stored in array X.\n",
    "X=data.iloc[0:len(data),1]"
   ]
  },
  {
   "cell_type": "code",
   "execution_count": 18,
   "metadata": {},
   "outputs": [
    {
     "data": {
      "text/plain": [
       "[<matplotlib.lines.Line2D at 0xa204c50>]"
      ]
     },
     "execution_count": 18,
     "metadata": {},
     "output_type": "execute_result"
    },
    {
     "data": {
      "image/png": "[encoded data removed]",
      "text/plain": [
       "<matplotlib.figure.Figure at 0xa022518>"
      ]
     },
     "metadata": {},
     "output_type": "display_data"
    }
   ],
   "source": [
    "plt.plot(T,X)"
   ]
  },
  {
   "cell_type": "markdown",
   "metadata": {},
   "source": [
    "### Generating $X^{ob}$"
   ]
  },
  {
   "cell_type": "code",
   "execution_count": 19,
   "metadata": {
    "collapsed": true
   },
   "outputs": [],
   "source": [
    "#NaN indices will also be stored for further calculations.\n",
    "isNan=[]\n",
    "X_observed = np.zeros(len(data))\n",
    "for i in range(0,len(data.index)):\n",
    "    if np.isnan(X.iloc[i]) :\n",
    "        X_observed[i]=0 # making them 0 causes some errors in calculations.\n",
    "        isNan.append(i)\n",
    "    else:\n",
    "        X_observed[i]=X.iloc[i]"
   ]
  },
  {
   "cell_type": "code",
   "execution_count": 20,
   "metadata": {
    "collapsed": true
   },
   "outputs": [],
   "source": [
    "#Global Variables\n",
    "N=len(data)\n",
    "M=4"
   ]
  },
  {
   "cell_type": "markdown",
   "metadata": {},
   "source": [
    "# Functions"
   ]
  },
  {
   "cell_type": "markdown",
   "metadata": {},
   "source": [
    "### Generate X_MN"
   ]
  },
  {
   "cell_type": "code",
   "execution_count": 21,
   "metadata": {
    "collapsed": true
   },
   "outputs": [],
   "source": [
    "def generateXmn (P):  #Here P is X_observed\n",
    "    X_MN= np.zeros([N-M,1])\n",
    "    for i in range (M,N):\n",
    "        X_MN[i-4]=P[i]\n",
    "    return X_MN"
   ]
  },
  {
   "cell_type": "markdown",
   "metadata": {},
   "source": [
    "### Constructing $G_{x}$"
   ]
  },
  {
   "cell_type": "code",
   "execution_count": 22,
   "metadata": {
    "collapsed": true
   },
   "outputs": [],
   "source": [
    "def constructGx(P):   #Here P is X_observed\n",
    "    Gx=np.zeros([N-4,M])\n",
    "    for i in range(M,N):\n",
    "        for j in range(0,M):\n",
    "            Gx[i-4,j]=P[i-j-1]\n",
    "    return Gx "
   ]
  },
  {
   "cell_type": "markdown",
   "metadata": {},
   "source": [
    "### Find A matrice with QR Factorization"
   ]
  },
  {
   "cell_type": "code",
   "execution_count": 23,
   "metadata": {
    "collapsed": true
   },
   "outputs": [],
   "source": [
    "def findA_QR(P,Y): #Here P is Gx and Y is X_MN\n",
    "    # P*A=Y\n",
    "    Q, R = np.linalg.qr(P)\n",
    "    Qt=np.transpose(Q)\n",
    "    invR=np.linalg.inv(R)\n",
    "    D=np.dot(invR,Qt)\n",
    "    A=np.dot(D,Y)\n",
    "    return A"
   ]
  },
  {
   "cell_type": "markdown",
   "metadata": {},
   "source": [
    "### Constructing $G_{A}$ matrice"
   ]
  },
  {
   "cell_type": "code",
   "execution_count": 24,
   "metadata": {
    "collapsed": true
   },
   "outputs": [],
   "source": [
    "def constructGa(P): # Here P is A, we generate Ga from A.\n",
    "    Pt=np.transpose(P)\n",
    "    Pt=np.fliplr(Pt) #Reversed version will be used\n",
    "    Ga=np.zeros([N-4,N])\n",
    "    for i in range (0, N-4):\n",
    "        Ga[i,i]=Pt[0,0]\n",
    "        Ga[i,i+1]=Pt[0,1]\n",
    "        Ga[i,i+2]=Pt[0,2]\n",
    "        Ga[i,i+3]=Pt[0,3]\n",
    "        Ga[i,i+4]= -1\n",
    "    return Ga "
   ]
  },
  {
   "cell_type": "markdown",
   "metadata": {},
   "source": [
    "### Finding $X_{mi}$"
   ]
  },
  {
   "cell_type": "code",
   "execution_count": 25,
   "metadata": {
    "collapsed": true
   },
   "outputs": [],
   "source": [
    "def findXmi(P,R): #Here P is Ga and R is X_observed\n",
    "    D=np.dot(P,R)\n",
    "    D=D*(-1)\n",
    "    Pt=np.transpose(P)\n",
    "    Comp1= np.dot(Pt,P)\n",
    "    invComp1=np.linalg.inv(Comp1)\n",
    "    Comp2=np.dot(invComp1,Pt)\n",
    "    Xmi=np.dot(Comp2,D)\n",
    "    return Xmi"
   ]
  },
  {
   "cell_type": "code",
   "execution_count": null,
   "metadata": {
    "collapsed": true
   },
   "outputs": [],
   "source": [
    "### Also I tried to find Xmissing by QR factorization but R was not square matrix so I could not take inverse of it.\n",
    "\n",
    "#def leastSquaresforXmissing_QR(P,Y): #Here P is Ga and Y is Xob\n",
    "#    D=np.dot(P,Y)\n",
    "#    D= D*(-1)\n",
    "    \n",
    "    #P*Xmi = D , we are looking for Xmi    \n",
    "#    Q,R = np.linalg.qr(P)\n",
    "#    Qt=np.transpose(Q)\n",
    "#    invR=np.linalg.inv(R)\n",
    "#    \n",
    "#    Comp1=np.dot(invR,Qt)\n",
    "#    Xmiss=np.dot(Comp1,D)\n",
    "#    return Xmiss"
   ]
  },
  {
   "cell_type": "markdown",
   "metadata": {},
   "source": [
    "### Initialization"
   ]
  },
  {
   "cell_type": "code",
   "execution_count": 26,
   "metadata": {
    "collapsed": true
   },
   "outputs": [],
   "source": [
    "X_MN=generateXmn(X_observed)"
   ]
  },
  {
   "cell_type": "code",
   "execution_count": 27,
   "metadata": {},
   "outputs": [
    {
     "data": {
      "text/plain": [
       "array([[   0.],\n",
       "       [ 135.],\n",
       "       [   0.],\n",
       "       [ 148.],\n",
       "       [ 136.],\n",
       "       [ 119.],\n",
       "       [ 104.],\n",
       "       [ 118.],\n",
       "       [ 115.],\n",
       "       [   0.],\n",
       "       [   0.],\n",
       "       [ 135.],\n",
       "       [ 125.],\n",
       "       [ 149.],\n",
       "       [ 170.],\n",
       "       [ 170.],\n",
       "       [ 158.],\n",
       "       [ 133.],\n",
       "       [ 114.],\n",
       "       [   0.],\n",
       "       [   0.],\n",
       "       [ 150.],\n",
       "       [ 178.],\n",
       "       [   0.],\n",
       "       [ 172.],\n",
       "       [   0.],\n",
       "       [ 199.],\n",
       "       [   0.],\n",
       "       [ 184.],\n",
       "       [ 162.],\n",
       "       [ 146.],\n",
       "       [   0.],\n",
       "       [ 171.],\n",
       "       [ 180.],\n",
       "       [   0.],\n",
       "       [ 181.],\n",
       "       [ 183.],\n",
       "       [ 218.],\n",
       "       [ 230.],\n",
       "       [ 242.],\n",
       "       [   0.],\n",
       "       [ 191.],\n",
       "       [ 172.],\n",
       "       [   0.],\n",
       "       [   0.],\n",
       "       [ 196.],\n",
       "       [ 236.],\n",
       "       [ 235.],\n",
       "       [   0.],\n",
       "       [ 243.],\n",
       "       [   0.],\n",
       "       [ 272.],\n",
       "       [ 237.],\n",
       "       [ 211.],\n",
       "       [ 180.],\n",
       "       [ 201.],\n",
       "       [   0.],\n",
       "       [   0.],\n",
       "       [ 235.],\n",
       "       [ 227.],\n",
       "       [   0.],\n",
       "       [   0.],\n",
       "       [ 302.],\n",
       "       [ 293.],\n",
       "       [ 259.],\n",
       "       [ 229.],\n",
       "       [   0.],\n",
       "       [   0.],\n",
       "       [ 242.],\n",
       "       [   0.],\n",
       "       [   0.],\n",
       "       [ 269.],\n",
       "       [   0.],\n",
       "       [ 315.],\n",
       "       [ 364.],\n",
       "       [ 347.],\n",
       "       [   0.],\n",
       "       [   0.],\n",
       "       [ 237.],\n",
       "       [   0.],\n",
       "       [   0.],\n",
       "       [   0.],\n",
       "       [ 317.],\n",
       "       [   0.],\n",
       "       [ 318.],\n",
       "       [ 374.],\n",
       "       [   0.],\n",
       "       [ 405.],\n",
       "       [ 355.],\n",
       "       [ 306.],\n",
       "       [ 271.],\n",
       "       [ 306.],\n",
       "       [ 315.],\n",
       "       [   0.],\n",
       "       [ 356.],\n",
       "       [ 348.],\n",
       "       [ 355.],\n",
       "       [ 422.],\n",
       "       [ 465.],\n",
       "       [   0.],\n",
       "       [ 404.],\n",
       "       [ 347.],\n",
       "       [ 305.],\n",
       "       [   0.],\n",
       "       [   0.],\n",
       "       [ 318.],\n",
       "       [   0.],\n",
       "       [ 348.],\n",
       "       [   0.],\n",
       "       [ 435.],\n",
       "       [ 491.],\n",
       "       [ 505.],\n",
       "       [ 404.],\n",
       "       [   0.],\n",
       "       [ 310.],\n",
       "       [   0.],\n",
       "       [   0.],\n",
       "       [ 342.],\n",
       "       [   0.],\n",
       "       [ 396.],\n",
       "       [ 420.],\n",
       "       [   0.],\n",
       "       [ 548.],\n",
       "       [ 559.],\n",
       "       [   0.],\n",
       "       [ 407.],\n",
       "       [   0.],\n",
       "       [   0.],\n",
       "       [ 417.],\n",
       "       [   0.],\n",
       "       [   0.],\n",
       "       [   0.],\n",
       "       [   0.],\n",
       "       [   0.],\n",
       "       [ 622.],\n",
       "       [ 606.],\n",
       "       [   0.],\n",
       "       [ 461.],\n",
       "       [ 390.],\n",
       "       [   0.]])"
      ]
     },
     "execution_count": 27,
     "metadata": {},
     "output_type": "execute_result"
    }
   ],
   "source": [
    "X_MN"
   ]
  },
  {
   "cell_type": "code",
   "execution_count": 28,
   "metadata": {
    "collapsed": true
   },
   "outputs": [],
   "source": [
    "Gx=constructGx(X_observed)\n"
   ]
  },
  {
   "cell_type": "code",
   "execution_count": 29,
   "metadata": {},
   "outputs": [
    {
     "data": {
      "text/plain": [
       "array([[ 129.,    0.,    0.,  112.],\n",
       "       [   0.,  129.,    0.,    0.],\n",
       "       [ 135.,    0.,  129.,    0.],\n",
       "       [   0.,  135.,    0.,  129.],\n",
       "       [ 148.,    0.,  135.,    0.],\n",
       "       [ 136.,  148.,    0.,  135.],\n",
       "       [ 119.,  136.,  148.,    0.],\n",
       "       [ 104.,  119.,  136.,  148.],\n",
       "       [ 118.,  104.,  119.,  136.],\n",
       "       [ 115.,  118.,  104.,  119.],\n",
       "       [   0.,  115.,  118.,  104.],\n",
       "       [   0.,    0.,  115.,  118.],\n",
       "       [ 135.,    0.,    0.,  115.],\n",
       "       [ 125.,  135.,    0.,    0.],\n",
       "       [ 149.,  125.,  135.,    0.],\n",
       "       [ 170.,  149.,  125.,  135.],\n",
       "       [ 170.,  170.,  149.,  125.],\n",
       "       [ 158.,  170.,  170.,  149.],\n",
       "       [ 133.,  158.,  170.,  170.],\n",
       "       [ 114.,  133.,  158.,  170.],\n",
       "       [   0.,  114.,  133.,  158.],\n",
       "       [   0.,    0.,  114.,  133.],\n",
       "       [ 150.,    0.,    0.,  114.],\n",
       "       [ 178.,  150.,    0.,    0.],\n",
       "       [   0.,  178.,  150.,    0.],\n",
       "       [ 172.,    0.,  178.,  150.],\n",
       "       [   0.,  172.,    0.,  178.],\n",
       "       [ 199.,    0.,  172.,    0.],\n",
       "       [   0.,  199.,    0.,  172.],\n",
       "       [ 184.,    0.,  199.,    0.],\n",
       "       [ 162.,  184.,    0.,  199.],\n",
       "       [ 146.,  162.,  184.,    0.],\n",
       "       [   0.,  146.,  162.,  184.],\n",
       "       [ 171.,    0.,  146.,  162.],\n",
       "       [ 180.,  171.,    0.,  146.],\n",
       "       [   0.,  180.,  171.,    0.],\n",
       "       [ 181.,    0.,  180.,  171.],\n",
       "       [ 183.,  181.,    0.,  180.],\n",
       "       [ 218.,  183.,  181.,    0.],\n",
       "       [ 230.,  218.,  183.,  181.],\n",
       "       [ 242.,  230.,  218.,  183.],\n",
       "       [   0.,  242.,  230.,  218.],\n",
       "       [ 191.,    0.,  242.,  230.],\n",
       "       [ 172.,  191.,    0.,  242.],\n",
       "       [   0.,  172.,  191.,    0.],\n",
       "       [   0.,    0.,  172.,  191.],\n",
       "       [ 196.,    0.,    0.,  172.],\n",
       "       [ 236.,  196.,    0.,    0.],\n",
       "       [ 235.,  236.,  196.,    0.],\n",
       "       [   0.,  235.,  236.,  196.],\n",
       "       [ 243.,    0.,  235.,  236.],\n",
       "       [   0.,  243.,    0.,  235.],\n",
       "       [ 272.,    0.,  243.,    0.],\n",
       "       [ 237.,  272.,    0.,  243.],\n",
       "       [ 211.,  237.,  272.,    0.],\n",
       "       [ 180.,  211.,  237.,  272.],\n",
       "       [ 201.,  180.,  211.,  237.],\n",
       "       [   0.,  201.,  180.,  211.],\n",
       "       [   0.,    0.,  201.,  180.],\n",
       "       [ 235.,    0.,    0.,  201.],\n",
       "       [ 227.,  235.,    0.,    0.],\n",
       "       [   0.,  227.,  235.,    0.],\n",
       "       [   0.,    0.,  227.,  235.],\n",
       "       [ 302.,    0.,    0.,  227.],\n",
       "       [ 293.,  302.,    0.,    0.],\n",
       "       [ 259.,  293.,  302.,    0.],\n",
       "       [ 229.,  259.,  293.,  302.],\n",
       "       [   0.,  229.,  259.,  293.],\n",
       "       [   0.,    0.,  229.,  259.],\n",
       "       [ 242.,    0.,    0.,  229.],\n",
       "       [   0.,  242.,    0.,    0.],\n",
       "       [   0.,    0.,  242.,    0.],\n",
       "       [ 269.,    0.,    0.,  242.],\n",
       "       [   0.,  269.,    0.,    0.],\n",
       "       [ 315.,    0.,  269.,    0.],\n",
       "       [ 364.,  315.,    0.,  269.],\n",
       "       [ 347.,  364.,  315.,    0.],\n",
       "       [   0.,  347.,  364.,  315.],\n",
       "       [   0.,    0.,  347.,  364.],\n",
       "       [ 237.,    0.,    0.,  347.],\n",
       "       [   0.,  237.,    0.,    0.],\n",
       "       [   0.,    0.,  237.,    0.],\n",
       "       [   0.,    0.,    0.,  237.],\n",
       "       [ 317.,    0.,    0.,    0.],\n",
       "       [   0.,  317.,    0.,    0.],\n",
       "       [ 318.,    0.,  317.,    0.],\n",
       "       [ 374.,  318.,    0.,  317.],\n",
       "       [   0.,  374.,  318.,    0.],\n",
       "       [ 405.,    0.,  374.,  318.],\n",
       "       [ 355.,  405.,    0.,  374.],\n",
       "       [ 306.,  355.,  405.,    0.],\n",
       "       [ 271.,  306.,  355.,  405.],\n",
       "       [ 306.,  271.,  306.,  355.],\n",
       "       [ 315.,  306.,  271.,  306.],\n",
       "       [   0.,  315.,  306.,  271.],\n",
       "       [ 356.,    0.,  315.,  306.],\n",
       "       [ 348.,  356.,    0.,  315.],\n",
       "       [ 355.,  348.,  356.,    0.],\n",
       "       [ 422.,  355.,  348.,  356.],\n",
       "       [ 465.,  422.,  355.,  348.],\n",
       "       [   0.,  465.,  422.,  355.],\n",
       "       [ 404.,    0.,  465.,  422.],\n",
       "       [ 347.,  404.,    0.,  465.],\n",
       "       [ 305.,  347.,  404.,    0.],\n",
       "       [   0.,  305.,  347.,  404.],\n",
       "       [   0.,    0.,  305.,  347.],\n",
       "       [ 318.,    0.,    0.,  305.],\n",
       "       [   0.,  318.,    0.,    0.],\n",
       "       [ 348.,    0.,  318.,    0.],\n",
       "       [   0.,  348.,    0.,  318.],\n",
       "       [ 435.,    0.,  348.,    0.],\n",
       "       [ 491.,  435.,    0.,  348.],\n",
       "       [ 505.,  491.,  435.,    0.],\n",
       "       [ 404.,  505.,  491.,  435.],\n",
       "       [   0.,  404.,  505.,  491.],\n",
       "       [ 310.,    0.,  404.,  505.],\n",
       "       [   0.,  310.,    0.,  404.],\n",
       "       [   0.,    0.,  310.,    0.],\n",
       "       [ 342.,    0.,    0.,  310.],\n",
       "       [   0.,  342.,    0.,    0.],\n",
       "       [ 396.,    0.,  342.,    0.],\n",
       "       [ 420.,  396.,    0.,  342.],\n",
       "       [   0.,  420.,  396.,    0.],\n",
       "       [ 548.,    0.,  420.,  396.],\n",
       "       [ 559.,  548.,    0.,  420.],\n",
       "       [   0.,  559.,  548.,    0.],\n",
       "       [ 407.,    0.,  559.,  548.],\n",
       "       [   0.,  407.,    0.,  559.],\n",
       "       [   0.,    0.,  407.,    0.],\n",
       "       [ 417.,    0.,    0.,  407.],\n",
       "       [   0.,  417.,    0.,    0.],\n",
       "       [   0.,    0.,  417.,    0.],\n",
       "       [   0.,    0.,    0.,  417.],\n",
       "       [   0.,    0.,    0.,    0.],\n",
       "       [   0.,    0.,    0.,    0.],\n",
       "       [ 622.,    0.,    0.,    0.],\n",
       "       [ 606.,  622.,    0.,    0.],\n",
       "       [   0.,  606.,  622.,    0.],\n",
       "       [ 461.,    0.,  606.,  622.],\n",
       "       [ 390.,  461.,    0.,  606.]])"
      ]
     },
     "execution_count": 29,
     "metadata": {},
     "output_type": "execute_result"
    }
   ],
   "source": [
    "Gx"
   ]
  },
  {
   "cell_type": "code",
   "execution_count": 30,
   "metadata": {
    "collapsed": true
   },
   "outputs": [],
   "source": [
    "A=findA_QR(Gx,X_MN)"
   ]
  },
  {
   "cell_type": "code",
   "execution_count": 31,
   "metadata": {},
   "outputs": [
    {
     "data": {
      "text/plain": [
       "array([[ 0.2150142 ],\n",
       "       [ 0.20981954],\n",
       "       [ 0.41332953],\n",
       "       [ 0.00110816]])"
      ]
     },
     "execution_count": 31,
     "metadata": {},
     "output_type": "execute_result"
    }
   ],
   "source": [
    "A"
   ]
  },
  {
   "cell_type": "code",
   "execution_count": 32,
   "metadata": {
    "collapsed": true
   },
   "outputs": [],
   "source": [
    "Ga=constructGa(A)"
   ]
  },
  {
   "cell_type": "code",
   "execution_count": 33,
   "metadata": {},
   "outputs": [
    {
     "data": {
      "text/plain": [
       "array([[ 0.00110816,  0.41332953,  0.20981954, ...,  0.        ,\n",
       "         0.        ,  0.        ],\n",
       "       [ 0.        ,  0.00110816,  0.41332953, ...,  0.        ,\n",
       "         0.        ,  0.        ],\n",
       "       [ 0.        ,  0.        ,  0.00110816, ...,  0.        ,\n",
       "         0.        ,  0.        ],\n",
       "       ..., \n",
       "       [ 0.        ,  0.        ,  0.        , ..., -1.        ,\n",
       "         0.        ,  0.        ],\n",
       "       [ 0.        ,  0.        ,  0.        , ...,  0.2150142 ,\n",
       "        -1.        ,  0.        ],\n",
       "       [ 0.        ,  0.        ,  0.        , ...,  0.20981954,\n",
       "         0.2150142 , -1.        ]])"
      ]
     },
     "execution_count": 33,
     "metadata": {},
     "output_type": "execute_result"
    }
   ],
   "source": [
    "Ga"
   ]
  },
  {
   "cell_type": "code",
   "execution_count": 34,
   "metadata": {
    "collapsed": true
   },
   "outputs": [],
   "source": [
    "Xmissing=findXmi(Ga,X_observed)"
   ]
  },
  {
   "cell_type": "code",
   "execution_count": 35,
   "metadata": {},
   "outputs": [
    {
     "data": {
      "text/plain": [
       "array([  2.03338581e+28,  -2.15791267e+26,  -2.58629368e+21,\n",
       "        -1.84311888e+19,  -9.77206626e+17,  -2.39222416e+15,\n",
       "         6.47250761e+13,  -2.14057469e+13,  -3.84100828e+10,\n",
       "         1.56094532e+09,   2.00653320e+07,   6.89285249e+04,\n",
       "        -1.22823698e+03,  -3.91337870e+14,  -1.25020206e+14,\n",
       "        -1.34999338e+02,  -1.24999989e+02,  -1.49000000e+02,\n",
       "        -1.70000000e+02,  -1.70000000e+02,  -1.58000000e+02,\n",
       "        -1.33000000e+02,  -1.14000002e+02,  -1.09781827e+12,\n",
       "        -3.30452604e+12,  -1.50000014e+02,  -1.78000000e+02,\n",
       "        -2.22517843e+11,  -1.72000001e+02,  -1.12922165e+11,\n",
       "        -1.99000000e+02,   8.40726875e+10,  -1.84000000e+02,\n",
       "        -1.62000000e+02,  -1.46000000e+02,  -1.23489892e+10,\n",
       "        -1.71000000e+02,  -1.80000000e+02,   6.89377561e+09,\n",
       "        -1.81000000e+02,  -1.83000000e+02,  -2.18000000e+02,\n",
       "        -2.30000000e+02,  -2.42000000e+02,  -1.29834191e+09,\n",
       "        -1.91000000e+02,  -1.72000000e+02,  -1.26531190e+08,\n",
       "        -1.50979210e+08,  -1.96000000e+02,  -2.36000000e+02,\n",
       "        -2.35000000e+02,  -2.18507563e+07,  -2.43000000e+02,\n",
       "         1.72596267e+07,  -2.72000000e+02,  -2.37000000e+02,\n",
       "        -2.11000000e+02,  -1.80000000e+02,  -2.01000000e+02,\n",
       "        -6.64086690e+05,   1.72958315e+05,  -2.35000000e+02,\n",
       "        -2.27000000e+02,  -1.52094549e+05,  -8.84395214e+04,\n",
       "        -3.02000000e+02,  -2.93000000e+02,  -2.59000000e+02,\n",
       "        -2.29000000e+02,   1.53250895e+04,  -7.32009681e+03,\n",
       "        -2.42000000e+02,  -1.38047148e+02,  -1.02015492e+02,\n",
       "        -2.69000000e+02,  -1.08481982e+03,  -3.15000000e+02,\n",
       "        -3.64000000e+02,  -3.47000000e+02,  -3.21971408e+02,\n",
       "         1.46657248e+02,  -2.37000000e+02,  -3.79958894e+01,\n",
       "         1.43169948e+01,  -1.16877937e+01,  -3.17000000e+02,\n",
       "         1.41668610e+01,  -3.18000000e+02,  -3.74000000e+02,\n",
       "         7.22882600e+00,  -4.05000000e+02,  -3.55000000e+02,\n",
       "        -3.06000000e+02,  -2.71000000e+02,  -3.06000000e+02,\n",
       "        -3.15000000e+02,   2.52708961e-01,  -3.56000000e+02,\n",
       "        -3.48000000e+02,  -3.55000000e+02,  -4.22000000e+02,\n",
       "        -4.65000000e+02,   2.67633406e-01,  -4.04000000e+02,\n",
       "        -3.47000000e+02,  -3.05000000e+02,   1.43792533e-01,\n",
       "         3.80120730e-02,  -3.18000000e+02,  -4.12375710e-02,\n",
       "        -3.48000000e+02,  -2.24874947e-02,  -4.35000000e+02,\n",
       "        -4.91000000e+02,  -5.05000000e+02,  -4.04000000e+02,\n",
       "         1.50084782e-03,  -3.10000000e+02,   5.92304050e-03,\n",
       "        -6.59749628e-03,  -3.42000000e+02,  -1.21604178e-02,\n",
       "        -3.96000000e+02,  -4.20000000e+02,   1.88142480e-03,\n",
       "        -5.48000000e+02,  -5.59000000e+02,   2.05324835e-02,\n",
       "        -4.07000000e+02,  -1.62043083e-03,   8.33357905e-03,\n",
       "        -4.17000000e+02,   1.57347456e-03,   4.18519284e-04,\n",
       "        -4.40852452e-04,   7.82749336e-03,   7.35227626e-03,\n",
       "        -6.22000000e+02,  -6.06000000e+02,   1.42865730e-02,\n",
       "        -4.61000000e+02,  -3.90000000e+02,   1.45963652e-02])"
      ]
     },
     "execution_count": 35,
     "metadata": {},
     "output_type": "execute_result"
    }
   ],
   "source": [
    "X_missing"
   ]
  },
  {
   "cell_type": "code",
   "execution_count": 36,
   "metadata": {},
   "outputs": [],
   "source": [
    "for t in range(0,20):\n",
    "    X_MN=generateXmn(X_observed)\n",
    "    Gx=constructGx(X_observed)\n",
    "    A=findA_QR(Gx,X_MN)\n",
    "    Ga=constructGa(A)\n",
    "    X_missing=findXmi(Ga,X_observed)\n",
    "    for i in range(0,len(isNan)): # found values are changed in X_observed.\n",
    "        X_observed[isNan[i]]=X_missing[isNan[i]]\n",
    "        "
   ]
  },
  {
   "cell_type": "code",
   "execution_count": 37,
   "metadata": {},
   "outputs": [
    {
     "data": {
      "text/plain": [
       "array([  1.12000000e+02,  -2.15791267e+26,  -2.58629368e+21,\n",
       "         1.29000000e+02,  -9.77206626e+17,   1.35000000e+02,\n",
       "         6.47250761e+13,   1.48000000e+02,   1.36000000e+02,\n",
       "         1.19000000e+02,   1.04000000e+02,   1.18000000e+02,\n",
       "         1.15000000e+02,  -3.91337870e+14,  -1.25020206e+14,\n",
       "         1.35000000e+02,   1.25000000e+02,   1.49000000e+02,\n",
       "         1.70000000e+02,   1.70000000e+02,   1.58000000e+02,\n",
       "         1.33000000e+02,   1.14000000e+02,  -1.09781827e+12,\n",
       "        -3.30452604e+12,   1.50000000e+02,   1.78000000e+02,\n",
       "        -2.22517843e+11,   1.72000000e+02,  -1.12922165e+11,\n",
       "         1.99000000e+02,   8.40726875e+10,   1.84000000e+02,\n",
       "         1.62000000e+02,   1.46000000e+02,  -1.23489892e+10,\n",
       "         1.71000000e+02,   1.80000000e+02,   6.89377561e+09,\n",
       "         1.81000000e+02,   1.83000000e+02,   2.18000000e+02,\n",
       "         2.30000000e+02,   2.42000000e+02,  -1.29834191e+09,\n",
       "         1.91000000e+02,   1.72000000e+02,  -1.26531190e+08,\n",
       "        -1.50979210e+08,   1.96000000e+02,   2.36000000e+02,\n",
       "         2.35000000e+02,  -2.18507563e+07,   2.43000000e+02,\n",
       "         1.72596267e+07,   2.72000000e+02,   2.37000000e+02,\n",
       "         2.11000000e+02,   1.80000000e+02,   2.01000000e+02,\n",
       "        -6.64086690e+05,   1.72958315e+05,   2.35000000e+02,\n",
       "         2.27000000e+02,  -1.52094549e+05,  -8.84395214e+04,\n",
       "         3.02000000e+02,   2.93000000e+02,   2.59000000e+02,\n",
       "         2.29000000e+02,   1.53250895e+04,  -7.32009681e+03,\n",
       "         2.42000000e+02,  -1.38047148e+02,  -1.02015492e+02,\n",
       "         2.69000000e+02,  -1.08481982e+03,   3.15000000e+02,\n",
       "         3.64000000e+02,   3.47000000e+02,  -3.21971408e+02,\n",
       "         1.46657248e+02,   2.37000000e+02,  -3.79958894e+01,\n",
       "         1.43169948e+01,  -1.16877937e+01,   3.17000000e+02,\n",
       "         1.41668610e+01,   3.18000000e+02,   3.74000000e+02,\n",
       "         7.22882600e+00,   4.05000000e+02,   3.55000000e+02,\n",
       "         3.06000000e+02,   2.71000000e+02,   3.06000000e+02,\n",
       "         3.15000000e+02,   2.52708961e-01,   3.56000000e+02,\n",
       "         3.48000000e+02,   3.55000000e+02,   4.22000000e+02,\n",
       "         4.65000000e+02,   2.67633406e-01,   4.04000000e+02,\n",
       "         3.47000000e+02,   3.05000000e+02,   1.43792533e-01,\n",
       "         3.80120730e-02,   3.18000000e+02,  -4.12375710e-02,\n",
       "         3.48000000e+02,  -2.24874947e-02,   4.35000000e+02,\n",
       "         4.91000000e+02,   5.05000000e+02,   4.04000000e+02,\n",
       "         1.50084782e-03,   3.10000000e+02,   5.92304050e-03,\n",
       "        -6.59749628e-03,   3.42000000e+02,  -1.21604178e-02,\n",
       "         3.96000000e+02,   4.20000000e+02,   1.88142480e-03,\n",
       "         5.48000000e+02,   5.59000000e+02,   2.05324835e-02,\n",
       "         4.07000000e+02,  -1.62043083e-03,   8.33357905e-03,\n",
       "         4.17000000e+02,   1.57347456e-03,   4.18519284e-04,\n",
       "        -4.40852452e-04,   7.82749336e-03,   7.35227626e-03,\n",
       "         6.22000000e+02,   6.06000000e+02,   1.42865730e-02,\n",
       "         4.61000000e+02,   3.90000000e+02,   1.45963652e-02])"
      ]
     },
     "execution_count": 37,
     "metadata": {},
     "output_type": "execute_result"
    }
   ],
   "source": [
    "X_observed ### Wrong results "
   ]
  },
  {
   "cell_type": "code",
   "execution_count": 13,
   "metadata": {},
   "outputs": [
    {
     "data": {
      "text/plain": [
       "[<matplotlib.lines.Line2D at 0x9fec978>]"
      ]
     },
     "execution_count": 13,
     "metadata": {},
     "output_type": "execute_result"
    },
    {
     "data": {
      "image/png": "[encoded data removed]",
      "text/plain": [
       "<matplotlib.figure.Figure at 0x4204588>"
      ]
     },
     "metadata": {},
     "output_type": "display_data"
    }
   ],
   "source": [
    "plt.plot(T,X_observed)"
   ]
  },
  {
   "cell_type": "code",
   "execution_count": null,
   "metadata": {
    "collapsed": true
   },
   "outputs": [],
   "source": []
  }
 ],
 "metadata": {
  "kernelspec": {
   "display_name": "Python 2",
   "language": "python",
   "name": "python2"
  },
  "language_info": {
   "codemirror_mode": {
    "name": "ipython",
    "version": 2
   },
   "file_extension": ".py",
   "mimetype": "text/x-python",
   "name": "python",
   "nbconvert_exporter": "python",
   "pygments_lexer": "ipython2",
   "version": "2.7.13"
  }
 },
 "nbformat": 4,
 "nbformat_minor": 2
}
